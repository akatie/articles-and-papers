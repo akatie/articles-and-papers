{
 "cells": [
  {
   "cell_type": "code",
   "execution_count": 2,
   "metadata": {},
   "outputs": [],
   "source": [
    "from sympy import Eq\n",
    "from sympy import Symbol\n",
    "from sympy import symbols\n",
    "from sympy import sqrt"
   ]
  },
  {
   "cell_type": "code",
   "execution_count": 3,
   "metadata": {},
   "outputs": [
    {
     "data": {
      "text/latex": [
       "$\\displaystyle \\Delta t = T \\Delta \\gamma$"
      ],
      "text/plain": [
       "Eq(\\Delta*t, T*\\Delta*\\gamma)"
      ]
     },
     "execution_count": 3,
     "metadata": {},
     "output_type": "execute_result"
    }
   ],
   "source": [
    "v, c = symbols('v c')\n",
    "t, T = symbols('t T')\n",
    "x = symbols('x')\n",
    "# NB: One can produce upper or lower case greek letters simply by capitalizing the argument being passed to the Symbol constructor.\n",
    "delta = Symbol(\"\\Delta\")\n",
    "gamma = Symbol(\"\\gamma\")\n",
    "time_dilation = Eq(delta*t, delta*T*gamma)\n",
    "time_dilation"
   ]
  },
  {
   "cell_type": "code",
   "execution_count": 4,
   "metadata": {},
   "outputs": [
    {
     "data": {
      "text/latex": [
       "$\\displaystyle \\frac{1}{\\sqrt{1 - \\frac{v^{2}}{c^{2}}}}$"
      ],
      "text/plain": [
       "1/sqrt(1 - v**2/c**2)"
      ]
     },
     "execution_count": 4,
     "metadata": {},
     "output_type": "execute_result"
    }
   ],
   "source": [
    "# This is the equation for the gamma factor.\n",
    "gamma_factor = 1/sqrt(1 - (v**2/c**2))\n",
    "\n",
    "gamma_factor"
   ]
  },
  {
   "cell_type": "code",
   "execution_count": 5,
   "metadata": {},
   "outputs": [],
   "source": [
    "# c is the constant for the speed of light in meters/second. 299,792,458 m/s\n",
    "light_speed = 299792458\n",
    "\n",
    "# relativistic velocity. This is arbitrary, and is for illustration purposes. This metric is in m/s\n",
    "relativistic_velocity = 2000000"
   ]
  },
  {
   "cell_type": "code",
   "execution_count": 6,
   "metadata": {},
   "outputs": [
    {
     "data": {
      "text/latex": [
       "$\\displaystyle 1.00002225374394$"
      ],
      "text/plain": [
       "1.00002225374394"
      ]
     },
     "execution_count": 6,
     "metadata": {},
     "output_type": "execute_result"
    }
   ],
   "source": [
    "# Evaluate our expression at the point where relativistic velocity equals the value set in the cell above.\n",
    "gamma = gamma_factor.evalf(subs={v: relativistic_velocity, c: light_speed})\n",
    "gamma"
   ]
  }
 ],
 "metadata": {
  "kernelspec": {
   "display_name": "Python 3",
   "language": "python",
   "name": "python3"
  },
  "language_info": {
   "codemirror_mode": {
    "name": "ipython",
    "version": 3
   },
   "file_extension": ".py",
   "mimetype": "text/x-python",
   "name": "python",
   "nbconvert_exporter": "python",
   "pygments_lexer": "ipython3",
   "version": "3.7.5"
  }
 },
 "nbformat": 4,
 "nbformat_minor": 4
}
